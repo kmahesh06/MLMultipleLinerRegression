{
 "cells": [
  {
   "cell_type": "code",
   "execution_count": 1,
   "id": "a83dccb4",
   "metadata": {},
   "outputs": [],
   "source": [
    "#import pickle to call the savemodel in deployment phase file\n",
    "import pickle"
   ]
  },
  {
   "cell_type": "code",
   "execution_count": 2,
   "id": "85554b8c",
   "metadata": {},
   "outputs": [
    {
     "name": "stdout",
     "output_type": "stream",
     "text": [
      "Enter the amount for R&D Spend:1234\n",
      "Enter the amount for Administration Spend:4350\n",
      "Enter the amount for Marketing Spend:3450\n",
      "Enter the amount for State_Florida:1\n",
      "Enter the amount for State_Newyork:0\n"
     ]
    },
    {
     "name": "stderr",
     "output_type": "stream",
     "text": [
      "C:\\Users\\Maheshwaran\\anaconda3\\Lib\\site-packages\\sklearn\\base.py:464: UserWarning: X does not have valid feature names, but LinearRegression was fitted with feature names\n",
      "  warnings.warn(\n"
     ]
    }
   ],
   "source": [
    "#read the filename where model is saved in the variable by load function in pickle\n",
    "loaded_model=pickle.load(open(\"finalized_model_Mul_linear.sav\",'rb'))\n",
    "#assign variable to pass the value during runtime\n",
    "R_D_Spend = int(input(\"Enter the amount for R&D Spend:\"))\n",
    "Administration = int(input(\"Enter the amount for Administration Spend:\"))\n",
    "MarketingSpend = int(input(\"Enter the amount for Marketing Spend:\"))\n",
    "State_Florida = int(input(\"Enter the amount for State_Florida:\"))\n",
    "State_Newyork = int(input(\"Enter the amount for State_Newyork:\"))\n",
    "#assign the result variable to call the predict function on loded_module variable where model saved\n",
    "result = loaded_model.predict([[R_D_Spend,Administration,MarketingSpend,State_Florida,State_Newyork]])"
   ]
  },
  {
   "cell_type": "code",
   "execution_count": 3,
   "id": "9ea07034",
   "metadata": {},
   "outputs": [
    {
     "data": {
      "text/plain": [
       "array([[44081.15414385]])"
      ]
     },
     "execution_count": 3,
     "metadata": {},
     "output_type": "execute_result"
    }
   ],
   "source": [
    "result"
   ]
  },
  {
   "cell_type": "code",
   "execution_count": null,
   "id": "dc2f292d",
   "metadata": {},
   "outputs": [],
   "source": []
  }
 ],
 "metadata": {
  "kernelspec": {
   "display_name": "Python 3 (ipykernel)",
   "language": "python",
   "name": "python3"
  },
  "language_info": {
   "codemirror_mode": {
    "name": "ipython",
    "version": 3
   },
   "file_extension": ".py",
   "mimetype": "text/x-python",
   "name": "python",
   "nbconvert_exporter": "python",
   "pygments_lexer": "ipython3",
   "version": "3.11.5"
  }
 },
 "nbformat": 4,
 "nbformat_minor": 5
}
